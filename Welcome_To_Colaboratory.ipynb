{
  "nbformat": 4,
  "nbformat_minor": 0,
  "metadata": {
    "colab": {
      "name": "Welcome To Colaboratory",
      "provenance": [],
      "collapsed_sections": [],
      "include_colab_link": true
    },
    "kernelspec": {
      "display_name": "Python 3",
      "name": "python3"
    }
  },
  "cells": [
    {
      "cell_type": "markdown",
      "metadata": {
        "id": "view-in-github",
        "colab_type": "text"
      },
      "source": [
        "<a href=\"https://colab.research.google.com/github/VineethaDeepak/Class-Assignment-1---Getting-Started-with-Python-Programming/blob/master/Welcome_To_Colaboratory.ipynb\" target=\"_parent\"><img src=\"https://colab.research.google.com/assets/colab-badge.svg\" alt=\"Open In Colab\"/></a>"
      ]
    },
    {
      "cell_type": "code",
      "metadata": {
        "id": "Kzd14BCiLNky",
        "colab_type": "code",
        "colab": {
          "base_uri": "https://localhost:8080/",
          "height": 136
        },
        "outputId": "70a0b080-f129-4774-d574-48ee3a48544a"
      },
      "source": [
        "#program to display the name, address, telephone number\n",
        "nm=input(\"Enter your name: \")\n",
        "address=input(\"Enter your address: \")\n",
        "teleNo=int(input(\"Enter telephone number: \"))\n",
        "print(\"\")\n",
        "print(\"Name:\", nm)\n",
        "print(\"Address:\", address)\n",
        "print(\"Telephone No:\", teleNo)"
      ],
      "execution_count": 8,
      "outputs": [
        {
          "output_type": "stream",
          "text": [
            "Enter your name: Vini\n",
            "Enter your address: 23, Winshire, Spring Road\n",
            "Enter telephone number: 2588431\n",
            "\n",
            "Name: Vini\n",
            "Address: 23, Winshire, Spring Road\n",
            "Telephone No: 2588431\n"
          ],
          "name": "stdout"
        }
      ]
    },
    {
      "cell_type": "code",
      "metadata": {
        "id": "HWb60c3TMXRi",
        "colab_type": "code",
        "colab": {
          "base_uri": "https://localhost:8080/",
          "height": 68
        },
        "outputId": "e5736961-aa19-404d-e3d6-bcaf3d9fe99c"
      },
      "source": [
        "print(\"Your name is\", name)\n",
        "name= input(\"Enter name: \")\n",
        "print(\"Your name is\", name)"
      ],
      "execution_count": 13,
      "outputs": [
        {
          "output_type": "stream",
          "text": [
            "Your name is Vini\n",
            "Enter name: Vini\n",
            "Your name is Vini\n"
          ],
          "name": "stdout"
        }
      ]
    },
    {
      "cell_type": "code",
      "metadata": {
        "id": "FC0j9o-3OI1b",
        "colab_type": "code",
        "colab": {
          "base_uri": "https://localhost:8080/",
          "height": 68
        },
        "outputId": "d87b1727-0af4-4078-814f-6187a4e43093"
      },
      "source": [
        "#program to compute the area of rectangle\n",
        "width= int(input(\"Enter the width: \"))\n",
        "height=int(input(\"Enter the height: \"))\n",
        "area=width*height\n",
        "print(\"The area is:\", area)"
      ],
      "execution_count": 14,
      "outputs": [
        {
          "output_type": "stream",
          "text": [
            "Enter the width: 2\n",
            "Enter the height: 4\n",
            "The area is: 8\n"
          ],
          "name": "stdout"
        }
      ]
    },
    {
      "cell_type": "code",
      "metadata": {
        "id": "Q6pe7Qs_QpyV",
        "colab_type": "code",
        "colab": {
          "base_uri": "https://localhost:8080/",
          "height": 68
        },
        "outputId": "2d0661aa-bc01-41d5-bbc4-148427d933a8"
      },
      "source": [
        "#program to compute the area of triangle\n",
        "base= int(input(\"Enter base: \"))\n",
        "hgt=int(input(\"Enter height: \"))\n",
        "ar=0.5*base*hgt\n",
        "print(\"The area is:\", ar)"
      ],
      "execution_count": 16,
      "outputs": [
        {
          "output_type": "stream",
          "text": [
            "Enter base: 3\n",
            "Enter height: 8\n",
            "The area is: 12.0\n"
          ],
          "name": "stdout"
        }
      ]
    },
    {
      "cell_type": "code",
      "metadata": {
        "id": "rOBJuuJlReQl",
        "colab_type": "code",
        "colab": {
          "base_uri": "https://localhost:8080/",
          "height": 51
        },
        "outputId": "3488966b-6a5a-4805-cd5e-74b4ea3fe435"
      },
      "source": [
        "#program to compute the area of circle\n",
        "radius= float(input(\"Enter radius: \"))\n",
        "a=3.14 * radius ** 2\n",
        "print(\"The area is:\", a)"
      ],
      "execution_count": 18,
      "outputs": [
        {
          "output_type": "stream",
          "text": [
            "Enter radius: 2.2\n",
            "The area is: 15.197600000000003\n"
          ],
          "name": "stdout"
        }
      ]
    },
    {
      "cell_type": "code",
      "metadata": {
        "id": "lmUcPaelR_cI",
        "colab_type": "code",
        "colab": {
          "base_uri": "https://localhost:8080/",
          "height": 68
        },
        "outputId": "b1ddf203-4f13-458b-97b0-f57c3063fab6"
      },
      "source": [
        "#program to display name, age in one sentence\n",
        "Name=input(\"Enter your name: \")\n",
        "age= int(input(\"Enter your age: \"))\n",
        "print(Name ,\"is\", age ,\"years old!\")"
      ],
      "execution_count": 19,
      "outputs": [
        {
          "output_type": "stream",
          "text": [
            "Enter your name: Vinitha\n",
            "Enter your age: 18\n",
            "Vinitha is 18 years old!\n"
          ],
          "name": "stdout"
        }
      ]
    },
    {
      "cell_type": "code",
      "metadata": {
        "id": "EwFUXsSdTEf5",
        "colab_type": "code",
        "colab": {
          "base_uri": "https://localhost:8080/",
          "height": 52
        },
        "outputId": "2cc37ea6-2b53-403f-d265-6b743662c17d"
      },
      "source": [
        "input()"
      ],
      "execution_count": 20,
      "outputs": [
        {
          "output_type": "stream",
          "text": [
            "45\n"
          ],
          "name": "stdout"
        },
        {
          "output_type": "execute_result",
          "data": {
            "application/vnd.google.colaboratory.intrinsic+json": {
              "type": "string"
            },
            "text/plain": [
              "'45'"
            ]
          },
          "metadata": {
            "tags": []
          },
          "execution_count": 20
        }
      ]
    },
    {
      "cell_type": "code",
      "metadata": {
        "id": "tO72iklWTJiy",
        "colab_type": "code",
        "colab": {
          "base_uri": "https://localhost:8080/",
          "height": 52
        },
        "outputId": "fbe7e5f5-b18e-436b-941f-c0f010174f28"
      },
      "source": [
        "input()"
      ],
      "execution_count": 21,
      "outputs": [
        {
          "output_type": "stream",
          "text": [
            "Magic\n"
          ],
          "name": "stdout"
        },
        {
          "output_type": "execute_result",
          "data": {
            "application/vnd.google.colaboratory.intrinsic+json": {
              "type": "string"
            },
            "text/plain": [
              "'Magic'"
            ]
          },
          "metadata": {
            "tags": []
          },
          "execution_count": 21
        }
      ]
    }
  ]
}